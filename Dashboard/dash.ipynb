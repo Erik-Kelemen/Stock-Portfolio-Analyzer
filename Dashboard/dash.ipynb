{
 "cells": [
  {
   "cell_type": "markdown",
   "metadata": {},
   "source": [
    "### Stock Portfolio Analyzer Dashboard\n",
    "<span style=\"font-size:10pt;\">Welcome to the Stock Portfolio Analyzer Dashboard! For any questions, refer to the README.md\n",
    "<span style=\"font-size:10pt;\">"
   ]
  },
  {
   "cell_type": "markdown",
   "metadata": {},
   "source": [
    "#### Phase 1: DataSources (Optional)\n",
    "<span style=\"font-size:10pt;\">Randomly generates a valid dummy portfolio with the following stocks for the year 2022, ignoring all weekends and market holidays -- 'AAPL', 'GOOGL', 'MSFT', 'AMZN', 'FB', \"RY.TO\", \"SHOP.TO\", \"BNS.TO\", \"TD.TO\", \"ENB.TO\". A \"valid\" portfolio is one that never tries to sell more shares of a particular stock than it holds. The output file will be written to data/trades.csv. Be careful if you do not want this overwritten! You can skip this step if you can supplement your own prices.csv, as long as it follows the specified format. Please refer to the README, How to Use section for formatting examples.\n",
    "<span style=\"font-size:10pt;\">"
   ]
  },
  {
   "cell_type": "code",
   "execution_count": null,
   "metadata": {},
   "outputs": [],
   "source": [
    "import generate_trades\n",
    "generate_dummy_trades()"
   ]
  },
  {
   "cell_type": "markdown",
   "metadata": {},
   "source": []
  },
  {
   "cell_type": "code",
   "execution_count": null,
   "metadata": {},
   "outputs": [],
   "source": [
    "import Accessor\n",
    "import \n",
    "import matplotlib.pyplot as plt\n",
    "\n",
    "DB_FILE = r\"../data/SQLite.db\"\n",
    "PRICES_FILE = r\"../data/prices.csv\"\n",
    "TRADES_FILE = r\"../data/trades.csv\"\n",
    "\n",
    "dbm = DBManager()\n",
    "dbm.instantiate_db_tables()\n",
    "dbm.insert_trades(constants.TRADES_FILE)\n",
    "\n",
    "trades = load_trades()\n",
    "prices = scrape_if_missing(trades)\n",
    "\n",
    "insert_prices()\n",
    "generate_prices()\n",
    "\n",
    "class UI:\n",
    "    def UI(self, dataframes):\n",
    "        self.dataframes = dataframes\n",
    "    def plot_dataframes(self):\n",
    "        for name, df in self.dataframes:\n",
    "            x = df['X']\n",
    "            y = df['Y']\n",
    "            plt.plot(x, y, label='name')\n",
    "            plt.title(name)\n",
    "            plt.legend()\n",
    "            plt.savefig(f'{name}.png')     \n",
    "        # plt.xlabel('X')\n",
    "        # plt.ylabel('Y')"
   ]
  },
  {
   "cell_type": "code",
   "execution_count": null,
   "metadata": {},
   "outputs": [],
   "source": [
    "import numpy as np\n",
    "import pandas as pd\n",
    "import matplotlib.pyplot as plt\n",
    "if __name__ == \"__main__\":\n",
    "    # Generate sample data\n",
    "    x = np.linspace(0, 10, 100)  # X values from 0 to 10\n",
    "    y = np.sin(x)  # Y values as sine of X\n",
    "\n",
    "    # Plot the data\n",
    "    plt.plot(x, y)\n",
    "\n",
    "    # Customize the plot\n",
    "    plt.xlabel('X')\n",
    "    plt.ylabel('Y')\n",
    "    plt.title('Sample Graph')\n",
    "    plt.grid(True)\n",
    "\n",
    "    # Display the plot\n",
    "    plt.savefig('figure.png')\n",
    "    # df = pd.DataFrame({\n",
    "    #     'date': ['2023-06-01', '2023-06-02', '2023-06-03'],\n",
    "    #     'time': ['09:00', '10:30', '12:15'],\n",
    "    #     'rate': [1.5, 2.0, 1.8]\n",
    "    # })\n",
    "    # # Set the index to create a mapping of (date, time) -> rate\n",
    "    # # mapping = df.set_index(['date', 'time'])['rate']\n",
    "    # # print(mapping)\n",
    "    # # print(type(mapping))\n",
    "    # # print(mapping[('2023-06-02', '10:30')])\n",
    "    # # Create two 3D matrices\n",
    "    # A = np.array([\n",
    "    #     [[7,4,3],\n",
    "    #     [6,7,7]],\n",
    "    #     [[6,3,4],\n",
    "    #     [7,5,3]],\n",
    "    #     [[3,7,3],\n",
    "    #     [6,5,6]]\n",
    "    # ])\n",
    "\n",
    "    # B = np.array(\n",
    "    #     [[5,5],\n",
    "    #     [5,6],\n",
    "    #     [4,4]]\n",
    "    # )\n",
    "    # # #Time * Date * Stocks  PRICES (for all stocks)\n",
    "    # # #STOCK * DATE TRADES (for all stocks)\n",
    "    # C = np.einsum('mnr,rn->mn', A, B)\n",
    "    # # D = C.flatten('F')\n",
    "    # print(C)\n",
    "    # print(D)\n"
   ]
  }
 ],
 "metadata": {
  "language_info": {
   "name": "python"
  },
  "orig_nbformat": 4
 },
 "nbformat": 4,
 "nbformat_minor": 2
}
