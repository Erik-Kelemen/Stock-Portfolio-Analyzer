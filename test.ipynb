{
 "cells": [
  {
   "cell_type": "code",
   "execution_count": 8,
   "metadata": {},
   "outputs": [
    {
     "name": "stdout",
     "output_type": "stream",
     "text": [
      "[[ 100    0  200]\n",
      " [  40 -300 -750]\n",
      " [  45  180  200]]\n",
      "[  300 -1010   425]\n"
     ]
    }
   ],
   "source": [
    "import pandas as pd\n",
    "import numpy as np\n",
    "trades = [[10, 0, 20 ],\n",
    "          [5, -20,-30],\n",
    "          [5, 15, 10 ]]\n",
    "prices = [[10, 13, 10],\n",
    "          [8, 15, 25 ],\n",
    "          [9, 12, 20 ]]\n",
    "trades = np.array(trades)\n",
    "prices = np.array(prices)\n",
    "result = trades * prices #trades @ prices\n",
    "print(result)\n",
    "result = np.sum(result, axis=1)\n",
    "print(result)\n",
    "\n",
    "#so this represents deltas to the NAV\n",
    "#not the same as the NAV\n",
    "#i need to modify trades to be delta-driven\n",
    "#still not exactly, we need to only align by rows... it's trickier, we only want the top left, mid, and bot right cell\n",
    "#tho this seems to be just more like a dot product problem i think\n"
   ]
  },
  {
   "cell_type": "code",
   "execution_count": 2,
   "metadata": {},
   "outputs": [
    {
     "name": "stdout",
     "output_type": "stream",
     "text": [
      "         date ticker   price\n",
      "0  2023-07-01   AAPL   150.0\n",
      "1  2023-07-02   GOOG  2800.0\n",
      "2  2023-07-03   AAPL   155.0\n",
      "         date ticker  quantity\n",
      "0  2023-07-01   AAPL        10\n",
      "1  2023-07-02   GOOG        -5\n",
      "2  2023-07-02   AAPL        -5\n",
      "         date ticker   price  quantity  trade_value  holding_value  \\\n",
      "0  2023-07-01   AAPL   150.0        10       1500.0         1500.0   \n",
      "1  2023-07-02   GOOG  2800.0        -5     -14000.0       -14000.0   \n",
      "\n",
      "   realized_pnl  unrealized_pnl  total_pnl  \n",
      "0           0.0             NaN        NaN  \n",
      "1           0.0         26500.0    26500.0  \n"
     ]
    }
   ],
   "source": [
    "import pandas as pd\n",
    "\n",
    "# Sample prices dataframe\n",
    "prices_data = {\n",
    "    'date': ['2023-07-01', '2023-07-02', '2023-07-03'],\n",
    "    'ticker': ['AAPL', 'GOOG', 'AAPL'],\n",
    "    'price': [150.0, 2800.0, 155.0]\n",
    "}\n",
    "prices = pd.DataFrame(prices_data)\n",
    "\n",
    "# Sample trades dataframe\n",
    "trades_data = {\n",
    "    'date': ['2023-07-01', '2023-07-02', '2023-07-02'],\n",
    "    'ticker': ['AAPL', 'GOOG', 'AAPL'],\n",
    "    'quantity': [10, -5, -5]  # Negative quantity represents selling\n",
    "}\n",
    "trades = pd.DataFrame(trades_data)\n",
    "\n",
    "# Step 1: Merge prices and trades dataframes\n",
    "portfolio = pd.merge(prices, trades, on=['date', 'ticker'])\n",
    "\n",
    "# Step 2: Calculate the value of each trade at the time it was made\n",
    "portfolio['trade_value'] = portfolio['price'] * portfolio['quantity']\n",
    "\n",
    "# Step 3: Calculate the total value of each holding at each point in time\n",
    "portfolio['holding_value'] = portfolio.groupby(['ticker'])['trade_value'].cumsum()\n",
    "\n",
    "# Step 4: Calculate the realized PnL\n",
    "portfolio['realized_pnl'] = portfolio.groupby(['ticker'])['holding_value'].diff().fillna(0)\n",
    "\n",
    "# Step 5: Calculate the unrealized PnL for open positions\n",
    "portfolio['unrealized_pnl'] = (portfolio['price'] - portfolio['price'].shift(1)) * portfolio['quantity'].shift(1)\n",
    "\n",
    "# Step 6: Combine the realized and unrealized PnL to get the total PnL\n",
    "portfolio['total_pnl'] = portfolio['realized_pnl'] + portfolio['unrealized_pnl']\n",
    "\n",
    "# Final dataframe showing PnL for each trade and overall portfolio PnL\n",
    "print(prices)\n",
    "print(trades)\n",
    "print(portfolio)"
   ]
  }
 ],
 "metadata": {
  "kernelspec": {
   "display_name": "Python 3",
   "language": "python",
   "name": "python3"
  },
  "language_info": {
   "codemirror_mode": {
    "name": "ipython",
    "version": 3
   },
   "file_extension": ".py",
   "mimetype": "text/x-python",
   "name": "python",
   "nbconvert_exporter": "python",
   "pygments_lexer": "ipython3",
   "version": "3.10.6"
  },
  "orig_nbformat": 4
 },
 "nbformat": 4,
 "nbformat_minor": 2
}
